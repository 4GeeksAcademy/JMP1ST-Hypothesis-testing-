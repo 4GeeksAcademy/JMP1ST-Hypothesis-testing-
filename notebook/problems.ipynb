{
 "cells": [
  {
   "cell_type": "markdown",
   "id": "d9d036c6",
   "metadata": {},
   "source": [
    "# Hypothesis testing problems"
   ]
  },
  {
   "cell_type": "markdown",
   "id": "d157c4db",
   "metadata": {},
   "source": [
    "## Exercise 1\n",
    "\n",
    "You are a nutritionist researching two different types of diets to see if there is a significant difference in weight loss after one month. You choose two random groups of people; one group follows the first diet, and the other follows the second. At the end of the month, you record the weight loss (in kg) for each person:\n",
    "\n",
    "| Diet 1 | Diet 2 |\n",
    "|:-------|:-------|\n",
    "| 2.0 | 3.0 |\n",
    "| 2.5 | 3.2 |\n",
    "| 3.0 | 3.1 |\n",
    "| 2.8 | 2.9 |\n",
    "| 2.3 | 2.8 |\n",
    "| 2.7 | 3.0 |\n",
    "| 2.5 | 3.2 |\n",
    "\n",
    "With these data, it seeks to answer the following question: Is there a significant difference in average weight loss between people who followed the first diet and those who followed the second diet?\n",
    "\n",
    "To draw conclusions, follow the points below:\n",
    "\n",
    "- State the hypothesis: null and alternative hypothesis.\n",
    "- Perform the test to test the hypothesis. You can use a Student's t-test.\n",
    "- Analyze the conclusions."
   ]
  },
  {
   "cell_type": "markdown",
   "id": "2a7a9df8",
   "metadata": {},
   "source": [
    "TASK 1: HYPOTHESIS\n",
    "\n",
    "H-0 (Null hypothesis): There is NO difference in the avr weigth loss between D1 and D2. \n",
    "\n",
    "\n",
    "H-1(Alternative Hypothesis): There is a difference in the avr weigth loss between D1 and D2. \n"
   ]
  },
  {
   "cell_type": "markdown",
   "id": "44117969",
   "metadata": {},
   "source": [
    "TASK 2: TEST OF HYPOTHESIS (Student's test)\n",
    "\n"
   ]
  },
  {
   "cell_type": "code",
   "execution_count": 30,
   "id": "df89ad47",
   "metadata": {},
   "outputs": [
    {
     "name": "stdout",
     "output_type": "stream",
     "text": [
      "The pvalue is: -3.5383407969933938\n",
      "\n",
      "The tvalue is: 0.004083270191713912\n"
     ]
    }
   ],
   "source": [
    "import scipy.stats as stats\n",
    "\n",
    "\n",
    "alpha = 0.05\n",
    "\n",
    "#Declaration of Diet plan as lists\n",
    "D1 = [2.0, 2.5, 3.0, 2.8, 2.3, 2.7, 2.5]\n",
    "D2 = [3.0, 3.2, 3.1, 2.9, 2.8, 3.0, 3.2]\n",
    "\n",
    "#Student's t-test\n",
    "t_test_result = stats.ttest_ind(D1, D2)\n",
    "\n",
    "#Extracting values\n",
    "pvalue = t_test_result.statistic\n",
    "tvalue = t_test_result.pvalue\n",
    "\n",
    "print(F\"The pvalue is: {pvalue}\\n\")\n",
    "print(F\"The tvalue is: {tvalue}\")"
   ]
  },
  {
   "cell_type": "markdown",
   "id": "5a59a455",
   "metadata": {},
   "source": [
    "TASK 3: CONCLUSION"
   ]
  },
  {
   "cell_type": "code",
   "execution_count": 5,
   "id": "8600ff24",
   "metadata": {},
   "outputs": [
    {
     "name": "stdout",
     "output_type": "stream",
     "text": [
      "Conclusion: Reject the null hypothesis — significant difference between diets.\n"
     ]
    }
   ],
   "source": [
    "#Conclusion\n",
    "if pvalue < alpha:\n",
    "    print(\"Conclusion: Reject the null hypothesis — significant difference between diets.\")\n",
    "else:\n",
    "    print(\"Conclusion: Fail to reject the null hypothesis — no significant difference.\")"
   ]
  },
  {
   "cell_type": "markdown",
   "id": "f432e18e",
   "metadata": {},
   "source": [
    "## ANOVA\n",
    "\n",
    "**ANOVA** (*Analysis of Variance*) is a statistical technique used to compare the measures of two or more groups. The idea behind ANOVA is to decompose the total variability in the data into two components: between-group variability and within-group variability:\n",
    "\n",
    "- **Between-group variability**: This variability refers to the differences between the group means. If this variability is considerably larger than the within-group variability, it could be an indication that at least one of the group means is different.\n",
    "- **Within-group variability**: This variability refers to the dispersion of the data within each group. If all groups have similar variability, then any noticeable difference in group means could be considered significant.\n",
    "\n",
    "Hypotheses in ANOVA typically include:\n",
    "\n",
    "- **Null hypothesis** ($H₀$): The means of all groups are equal.\n",
    "- **Alternative hypothesis** ($H₁$): At least one of the group means is different.\n",
    "\n",
    "If the ANOVA test result is significant (e.g., a p-value less than a threshold such as 0.05), this suggests that at least one group mean is different."
   ]
  },
  {
   "cell_type": "markdown",
   "id": "5d10d43a",
   "metadata": {},
   "source": [
    "TASK 1: HYPOTHESIS\n",
    "\n",
    "H-0 (Null Hypothesis): The mean corn yield is the same for all three types of fertilizer.\n",
    "\n",
    "H-1 (Alternative Hypothesis): At least one fertilizer produces a different mean corn yield."
   ]
  },
  {
   "cell_type": "markdown",
   "id": "fc5f3721",
   "metadata": {},
   "source": [
    "## Exercise 2\n",
    "\n",
    "A farmer decides to test three different types of fertilizers to determine if one is superior in terms of corn production. The farmer plants corn on 15 identical plots and uses all three fertilizers (5 plots for each type). At the end of the season, he measures the corn yield (in kg) of each plot, with the following result:\n",
    "\n",
    "| Fertilizer 1 | Fertilizer 2 | Fertilizer 3 |\n",
    "|:-------------|:-------------|:-------------|\n",
    "| 20 | 22 | 24 |\n",
    "| 21 | 21 | 23 |\n",
    "| 20 | 23 | 22 |\n",
    "| 19 | 22 | 23 |\n",
    "| 20 | 21 | 24 |\n",
    "\n",
    "With this data, he seeks to answer the following question: Is there a significant difference in average corn yield between the three types of fertilizers?\n",
    "\n",
    "To help you, follow the points below:\n",
    "\n",
    "- State the hypothesis: null and alternative hypothesis.\n",
    "- Perform the ANOVA test.\n",
    "- Analyze the conclusions.\n",
    "- If one fertilizer is better than another, how can we know it?"
   ]
  },
  {
   "cell_type": "markdown",
   "id": "aec95a9e",
   "metadata": {},
   "source": [
    "TASK 2: ANOVA TEST"
   ]
  },
  {
   "cell_type": "code",
   "execution_count": 10,
   "id": "eecad0ca",
   "metadata": {},
   "outputs": [
    {
     "name": "stdout",
     "output_type": "stream",
     "text": [
      "fvalue is: 20.315789473684188\n",
      "\n",
      "pvalue is: 0.00014047824793190472\n"
     ]
    }
   ],
   "source": [
    "#Declaration of fert. as lists and alpha\n",
    "\n",
    "alpha = 0.05\n",
    "\n",
    "fertilizer_1 = [20, 21, 20, 19, 20]\n",
    "fertilizer_2 = [22, 21, 23, 22, 21]\n",
    "fertilizer_3 = [24, 23, 22, 23, 24]\n",
    "\n",
    "#Performing ANOVA test\n",
    "anova_result = stats.f_oneway(fertilizer_1, fertilizer_2, fertilizer_3)\n",
    "\n",
    "#Extracting values \n",
    "pvalue = anova_result.pvalue\n",
    "fvalue = anova_result.statistic\n",
    "\n",
    "print(F\"fvalue is: {fvalue}\\n\")\n",
    "print(F\"pvalue is: {pvalue}\")\n",
    "\n"
   ]
  },
  {
   "cell_type": "markdown",
   "id": "ddd4a5e3",
   "metadata": {},
   "source": [
    "TASK 3: CONCLUSION AND ANALYSIS"
   ]
  },
  {
   "cell_type": "code",
   "execution_count": 36,
   "id": "09887cb8",
   "metadata": {},
   "outputs": [
    {
     "name": "stdout",
     "output_type": "stream",
     "text": [
      "Result: We reject the null hypothesis.\n",
      "Conclusion: At least one fertilizer yields a significantly different average.\n"
     ]
    }
   ],
   "source": [
    "if pvalue < alpha:\n",
    "    print(\"Result: We reject the null hypothesis.\")\n",
    "    print(\"Conclusion: At least one fertilizer yields a significantly different average.\")\n",
    "else:\n",
    "    print(\"Result: We fail to reject the null hypothesis.\")\n",
    "    print(\"Conclusion: No significant difference in average corn yield among the fertilizers.\")"
   ]
  },
  {
   "cell_type": "markdown",
   "id": "322b6428",
   "metadata": {},
   "source": [
    "CONCLUSION: There is a statistically significant difference in average corn yield between at least two of the fertilizer groups."
   ]
  },
  {
   "cell_type": "markdown",
   "id": "a067f6a8",
   "metadata": {},
   "source": [
    "TASK 4: PROOF THAT ONE OF THE FERTILIZERS IS INDEED SIGNIFICANTLY DIFFERENT THAN THE AVERAGE\n"
   ]
  },
  {
   "cell_type": "code",
   "execution_count": 25,
   "id": "c3f0133d",
   "metadata": {},
   "outputs": [
    {
     "name": "stdout",
     "output_type": "stream",
     "text": [
      "Tukey's test result:\n",
      "Multiple Comparison of Means - Tukey HSD, FWER=0.05\n",
      "==================================================\n",
      "group1 group2 meandiff p-adj  lower  upper  reject\n",
      "--------------------------------------------------\n",
      "    F1     F2      1.8 0.0099 0.4572 3.1428   True\n",
      "    F1     F3      3.2 0.0001 1.8572 4.5428   True\n",
      "    F2     F3      1.4 0.0409 0.0572 2.7428   True\n",
      "--------------------------------------------------\n"
     ]
    }
   ],
   "source": [
    "import numpy as np\n",
    "from statsmodels.stats.multicomp import pairwise_tukeyhsd\n",
    "\n",
    "#Transforming the data into an array to easily work with it\n",
    "data = np.array(fertilizer_1 + fertilizer_2 + fertilizer_3)\n",
    "\n",
    "#Adding labels to each column for better readability \n",
    "labels = ['F1'] *len(fertilizer_1) + ['F2'] * len(fertilizer_2) + ['F3'] * len(fertilizer_3)\n",
    "#print(labels)\n",
    "\n",
    "#Use of TUKEY'S test (Pairwise comparisons and confidence intervals.)\n",
    "tukey_result = pairwise_tukeyhsd(endog=data, groups=labels, alpha=alpha)\n",
    "\n",
    "print(F\"Tukey's test result:\\n{tukey_result}\")"
   ]
  },
  {
   "cell_type": "markdown",
   "id": "d5ec4629",
   "metadata": {},
   "source": [
    "TUKEY'S Test interpretation: \n",
    "\n",
    "Fertilizer 3 produces a significantly higher average yield than both Fertilizer 1 and Fertilizer 2. However, Fertilizer 1 and Fertilizer 2 are not significantly different from each other in terms of yield."
   ]
  },
  {
   "cell_type": "markdown",
   "id": "7747c165",
   "metadata": {},
   "source": [
    "TASK 4.1: VISUALIZING DATA"
   ]
  },
  {
   "cell_type": "code",
   "execution_count": 35,
   "id": "de3ecfbf",
   "metadata": {},
   "outputs": [
    {
     "data": {
      "image/png": "[encoded data removed]",
      "text/plain": [
       "<Figure size 640x480 with 1 Axes>"
      ]
     },
     "metadata": {},
     "output_type": "display_data"
    }
   ],
   "source": [
    "import matplotlib.pyplot as plt\n",
    "\n",
    "# Data grouped by fertilizer\n",
    "data = [fertilizer_1, fertilizer_2, fertilizer_3]\n",
    "labels = ['Fertilizer 1', 'Fertilizer 2', 'Fertilizer 3']\n",
    "\n",
    "#Boxplot to show the comparison between the corn yield by fert type\n",
    "plt.boxplot(data, tick_labels=labels)\n",
    "plt.title(\"Comparison of Corn Yield by Fertilizer Type\")\n",
    "plt.ylabel(\"Yield (kg)\")\n",
    "plt.xlabel(\"Fertilizer\")\n",
    "plt.grid(True)\n",
    "plt.tight_layout()\n",
    "plt.show()"
   ]
  },
  {
   "cell_type": "markdown",
   "id": "ebecf42c",
   "metadata": {},
   "source": [
    "Fertilizer 3 has a higher median and less overlap with the others. This turns out to be the visual support (proof) of the Tukey's result.\n",
    "\n",
    "Fertilizer 1 and 2 havve more overlap in their ranges, which indeed matches the fact that the differences between them aren't significant.\n",
    "\n"
   ]
  }
 ],
 "metadata": {
  "kernelspec": {
   "display_name": "Python 3",
   "language": "python",
   "name": "python3"
  },
  "language_info": {
   "codemirror_mode": {
    "name": "ipython",
    "version": 3
   },
   "file_extension": ".py",
   "mimetype": "text/x-python",
   "name": "python",
   "nbconvert_exporter": "python",
   "pygments_lexer": "ipython3",
   "version": "3.11.4"
  }
 },
 "nbformat": 4,
 "nbformat_minor": 5
}
